{
  "nbformat": 4,
  "nbformat_minor": 0,
  "metadata": {
    "colab": {
      "provenance": [],
      "authorship_tag": "ABX9TyOtSk4uzDlXBpUjYePmAjji",
      "include_colab_link": true
    },
    "kernelspec": {
      "name": "python3",
      "display_name": "Python 3"
    },
    "language_info": {
      "name": "python"
    }
  },
  "cells": [
    {
      "cell_type": "markdown",
      "metadata": {
        "id": "view-in-github",
        "colab_type": "text"
      },
      "source": [
        "<a href=\"https://colab.research.google.com/github/KaoDoggy/-API/blob/main/%E5%8F%A3%E7%BD%A9%E4%B8%B2%E6%8E%A5api.ipynb\" target=\"_parent\"><img src=\"https://colab.research.google.com/assets/colab-badge.svg\" alt=\"Open In Colab\"/></a>"
      ]
    },
    {
      "cell_type": "code",
      "execution_count": 11,
      "metadata": {
        "colab": {
          "base_uri": "https://localhost:8080/"
        },
        "id": "ZaSgiSMs74uI",
        "outputId": "803d2ca0-3c6c-46d1-f7d6-49e2691517b6"
      },
      "outputs": [
        {
          "output_type": "stream",
          "name": "stderr",
          "text": [
            "IOPub data rate exceeded.\n",
            "The notebook server will temporarily stop sending output\n",
            "to the client in order to avoid crashing it.\n",
            "To change this limit, set the config variable\n",
            "`--NotebookApp.iopub_data_rate_limit`.\n",
            "\n",
            "Current values:\n",
            "NotebookApp.iopub_data_rate_limit=1000000.0 (bytes/sec)\n",
            "NotebookApp.rate_limit_window=3.0 (secs)\n",
            "\n"
          ]
        }
      ],
      "source": [
        "import requests\n",
        "import json\n",
        "\n",
        "\n",
        "# 利用 requests 對 API 來源發送一個請求\n",
        "URL ='https://raw.githubusercontent.com/kiang/pharmacies/master/json/points.json'\n",
        "response = requests.get(URL)\n",
        "\n",
        "# 將請求回應的內容存成一個字串格式\n",
        "\n",
        "d = response.text\n",
        "\n",
        "# 將長得像 json 格式的字串解析成字典或列表\n",
        "data = json.loads(d)\n",
        "\n",
        "print(data)"
      ]
    },
    {
      "cell_type": "code",
      "source": [
        "med_count = {}\n",
        "\n",
        "# 填入欄位名稱\n",
        "for d in data['features']:\n",
        "    conunty = d['properties']['address'][:3]\n",
        "    if conunty not in med_count:\n",
        "        med_count[conunty] = 0\n",
        "    else :\n",
        "        med_count[conunty] += 1\n",
        "print(med_count)\n",
        "# {'台北市': 123, '新北市': 456 ...}"
      ],
      "metadata": {
        "id": "XilAes7CLwGm"
      },
      "execution_count": null,
      "outputs": []
    },
    {
      "cell_type": "code",
      "source": [
        "#接下來請你計算出每個地區的成人剩餘口罩數量，並且將結果從大到小排列，完成後 Commit 第三個版本：\n",
        "mask_count = {}\n",
        "for d in data['features'] :\n",
        "    print(data['features'])\n",
        "    county = d['properties']['address'][:3]\n",
        "    maskCount = d['properties']['mask_adult']\n",
        "    if county not in mask_count :\n",
        "        mask_count[county] = 0\n",
        "    else :\n",
        "        mask_count[county] += maskCount"
      ],
      "metadata": {
        "id": "xuGUk31vZr5s"
      },
      "execution_count": null,
      "outputs": []
    },
    {
      "cell_type": "code",
      "source": [],
      "metadata": {
        "id": "9yLRNnBVaF_8"
      },
      "execution_count": null,
      "outputs": []
    },
    {
      "cell_type": "code",
      "source": [],
      "metadata": {
        "id": "fHUhk3Gr_FmJ"
      },
      "execution_count": null,
      "outputs": []
    }
  ]
}